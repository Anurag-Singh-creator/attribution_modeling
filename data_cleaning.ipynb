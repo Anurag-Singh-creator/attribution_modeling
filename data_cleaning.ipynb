{
  "nbformat": 4,
  "nbformat_minor": 0,
  "metadata": {
    "colab": {
      "provenance": [],
      "mount_file_id": "1JEHiCH7E3YaBp0_P99nuWSgBOBNi4U62",
      "authorship_tag": "ABX9TyPlCaHlp48hsr5EgLGF7n9w",
      "include_colab_link": true
    },
    "kernelspec": {
      "name": "python3",
      "display_name": "Python 3"
    },
    "language_info": {
      "name": "python"
    }
  },
  "cells": [
    {
      "cell_type": "markdown",
      "metadata": {
        "id": "view-in-github",
        "colab_type": "text"
      },
      "source": [
        "<a href=\"https://colab.research.google.com/github/Anurag-Singh-creator/attribution_modeling/blob/main/data_cleaning.ipynb\" target=\"_parent\"><img src=\"https://colab.research.google.com/assets/colab-badge.svg\" alt=\"Open In Colab\"/></a>"
      ]
    },
    {
      "cell_type": "code",
      "execution_count": null,
      "metadata": {
        "id": "D08tI3wC3K7i"
      },
      "outputs": [],
      "source": [
        "import pandas as pd"
      ]
    },
    {
      "cell_type": "code",
      "source": [
        "df = pd.read_csv('/content/drive/MyDrive/Dataz/manuel/bq-results-manuel.csv')"
      ],
      "metadata": {
        "id": "kpdRP1cH3k-h"
      },
      "execution_count": null,
      "outputs": []
    },
    {
      "cell_type": "code",
      "source": [
        "# Find all rows where 'source_medium' contains the substring 'google'\n",
        "contains_google = df[\n",
        "    df['source_medium'].str.contains('google', case=False, na=False) &\n",
        "    ~df['source_medium'].str.contains('google\\|paid', case=False, na=False) &\n",
        "    ~df['source_medium'].str.contains('google\\|organic', case=False, na=False) &\n",
        "    ~df['source_medium'].str.contains('google\\|cpc', case=False, na=False)\n",
        "]\n",
        "# Display the rows\n",
        "contains_google['source_medium'].value_counts().sort_index()"
      ],
      "metadata": {
        "colab": {
          "base_uri": "https://localhost:8080/"
        },
        "id": "htqaGI6U6aAU",
        "outputId": "397beb3f-cda5-46b0-964b-1f9a4456e9d3"
      },
      "execution_count": null,
      "outputs": [
        {
          "output_type": "execute_result",
          "data": {
            "text/plain": [
              "accounts.google.com|referral                                                    79\n",
              "ads.google.com|referral                                                         66\n",
              "cse.google.com|referral                                                         15\n",
              "docs.google.com|referral                                                        22\n",
              "f404d7a1bff573ce3d392c3839892f3a.safeframe.googlesyndication.com|referral        1\n",
              "google-ads|cpc                                                               12772\n",
              "google-ads|organic                                                               4\n",
              "google-ads|referral                                                              2\n",
              "google-play|organic                                                           2987\n",
              "googleads.g.doubleclick.net|referral                                            34\n",
              "googleadservices.com|referral                                                   56\n",
              "google|banner                                                                    3\n",
              "google|email                                                                    18\n",
              "google|referral                                                                  2\n",
              "groups.google.com|referral                                                      44\n",
              "imasdk.googleapis.com|referral                                                  24\n",
              "keep.google.com|referral                                                        12\n",
              "lens.google.com|referral                                                        11\n",
              "mail.google.com|referral                                                       645\n",
              "play.google.com|referral                                                         2\n",
              "plx-user-content.corp.google.com|referral                                        3\n",
              "search.google.com|referral                                                      35\n",
              "tagassistant.google.com|referral                                               165\n",
              "translate.google.com|referral                                                    4\n",
              "Name: source_medium, dtype: int64"
            ]
          },
          "metadata": {},
          "execution_count": 42
        }
      ]
    },
    {
      "cell_type": "code",
      "source": [
        "replacements = {\n",
        "    'ads\\.google\\.com\\|referral': 'google|referral',\n",
        "    'cse\\.google\\.com\\|referral': 'google|referral',\n",
        "    'docs\\.google\\.com\\|referral': 'google|referral',\n",
        "    'f404d7a1bff573ce3d392c3839892f3a\\.safeframe\\.googlesyndication\\.com\\|referral': 'google|referral',\n",
        "    'google-ads\\|cpc': 'google|paid',\n",
        "    'google-ads\\|organic': 'google-ads|referral',\n",
        "    'google-ads\\|referral': 'google|referral',\n",
        "    'google-play\\|organic': 'google|organic',\n",
        "    'googleads\\.g\\.doubleclick\\.net\\|referral': 'google|paid',\n",
        "    'googleadservices\\.com\\|referral': 'google|paid',\n",
        "    'groups\\.google\\.com\\|referral': 'google|referral',\n",
        "    'imasdk\\.googleapis\\.com\\|referral': 'google|referral',\n",
        "    'keep\\.google\\.com\\|referral': 'google|referral',\n",
        "    'lens\\.google\\.com\\|referral': 'google|referral',\n",
        "    'mail\\.google\\.com\\|referral': 'mail|referral',\n",
        "    'play\\.google\\.com\\|referral': 'google|referral',\n",
        "    'plx-user-content\\.corp\\.google\\.com\\|referral': 'google|referral',\n",
        "    'search\\.google\\.com\\|referral': 'google|referral',\n",
        "    # Additional replacements for 'facebook'\n",
        "    r'(?i)business\\.facebook\\.com': 'facebook',\n",
        "    r'(?i)facebook\\.com': 'facebook',\n",
        "    r'(?i)l\\.facebook\\.com': 'facebook',\n",
        "    r'(?i)l\\.facebook': 'facebook',\n",
        "    r'(?i)lm\\.facebook\\.com': 'facebook',\n",
        "    r'(?i)lm\\.facebook': 'facebook',\n",
        "    r'(?i)m\\.facebook\\.com': 'facebook',\n",
        "    r'(?i)m\\.facebook': 'facebook',\n",
        "    r'(?i)mobile\\.facebook\\.com': 'facebook',\n",
        "    r'(?i)mobile\\.facebook': 'facebook',\n",
        "    # Additional replacements for 'pinterest'\n",
        "    r'(?i)pl\\.pinterest\\.com': 'pinterest',\n",
        "    r'(?i)br\\.pinterest\\.com': 'pinterest',\n",
        "    r'(?i)pinterest\\.co\\.uk': 'pinterest',\n",
        "    r'(?i)in\\.pinterest\\.com': 'pinterest',\n",
        "    r'(?i)ar\\.pinterest\\.com': 'pinterest',\n",
        "    r'(?i)pinterest\\.fr': 'pinterest',\n",
        "    r'(?i)pinterest\\.it': 'pinterest',\n",
        "    r'(?i)pinterest\\.com\\.au': 'pinterest',\n",
        "    r'(?i)pinterest\\.lightning\\.force\\.com': 'pinterest',\n",
        "    r'(?i)pinterest\\.ch': 'pinterest',\n",
        "    r'(?i)ads\\.pinterest\\.com': 'pinterest',\n",
        "    r'(?i)no\\.pinterest\\.com': 'pinterest',\n",
        "    r'(?i)tr\\.pinterest\\.com': 'pinterest',\n",
        "    r'(?i)pinterest\\.jp': 'pinterest',\n",
        "    r'(?i)pinterest': 'pinterest',\n",
        "    r'(?i)pinterest\\.pt': 'pinterest',\n",
        "    r'(?i)ro\\.pinterest\\.com': 'pinterest',\n",
        "    r'(?i)pinterest\\.com': 'pinterest',\n",
        "    r'(?i)gr\\.pinterest\\.com': 'pinterest',\n",
        "    r'(?i)pinterest\\.es': 'pinterest',\n",
        "}"
      ],
      "metadata": {
        "id": "Sc9DIvX162uy"
      },
      "execution_count": null,
      "outputs": []
    },
    {
      "cell_type": "code",
      "source": [
        "# Replacing the strings in the 'source_medium' column\n",
        "df['source_medium'] = df['source_medium'].replace(replacements, regex=True)\n"
      ],
      "metadata": {
        "id": "HfGn7SNwDBho"
      },
      "execution_count": null,
      "outputs": []
    },
    {
      "cell_type": "code",
      "source": [
        "df.to_csv('/content/drive/MyDrive/Dataz/manuel/cleaned_data.csv', index=False)"
      ],
      "metadata": {
        "id": "-alCD6IlQQV_"
      },
      "execution_count": null,
      "outputs": []
    },
    {
      "cell_type": "code",
      "source": [
        "contains_fb = df[\n",
        "    (df['source_medium'].str.contains('facebook', case=False, na=False) |\n",
        "     df['source_medium'].str.contains('fb', case=False, na=False))\n",
        "]\n",
        "\n",
        "# Display the rows\n",
        "contains_fb['source_medium'].value_counts().sort_index()"
      ],
      "metadata": {
        "colab": {
          "base_uri": "https://localhost:8080/"
        },
        "id": "cq1c-jUFD0Uq",
        "outputId": "ea5d9688-785a-402f-ff7d-97a072331fc2"
      },
      "execution_count": null,
      "outputs": [
        {
          "output_type": "execute_result",
          "data": {
            "text/plain": [
              "facebookl|paid                                                                            1423\n",
              "facebook|ita | prospecting | tofu | purchase | abo | test audiences | acquisto               2\n",
              "facebook|ita | prospecting | tofu | purchase | abo | test audiences | cic | acquisto         6\n",
              "facebook|paid                                                                           391006\n",
              "facebook|referral                                                                        55013\n",
              "facebook|social                                                                             55\n",
              "Name: source_medium, dtype: int64"
            ]
          },
          "metadata": {},
          "execution_count": 38
        }
      ]
    },
    {
      "cell_type": "code",
      "source": [
        "contains_tk = df[df['source_medium'].str.contains('tiktok', case=False, na=False)]\n",
        "\n",
        "# Display the rows\n",
        "contains_tk['source_medium'].value_counts().sort_index()"
      ],
      "metadata": {
        "colab": {
          "base_uri": "https://localhost:8080/"
        },
        "id": "VhVIfl0pF_sO",
        "outputId": "c11537f0-8a65-4102-defc-d1ee1d92af0c"
      },
      "execution_count": null,
      "outputs": [
        {
          "output_type": "execute_result",
          "data": {
            "text/plain": [
              "tiktok.com|referral    506\n",
              "Name: source_medium, dtype: int64"
            ]
          },
          "metadata": {},
          "execution_count": 15
        }
      ]
    },
    {
      "cell_type": "code",
      "source": [
        "contains_pinterest = df[df['source_medium'].str.contains('pinterest', case=False, na=False)]\n",
        "\n",
        "# Display the rows\n",
        "contains_pinterest['source_medium'].value_counts().sort_index()"
      ],
      "metadata": {
        "colab": {
          "base_uri": "https://localhost:8080/"
        },
        "id": "u_lBzXC3GQpM",
        "outputId": "a4d02ea9-e35c-4770-b791-96f6f0c9f9b4"
      },
      "execution_count": null,
      "outputs": [
        {
          "output_type": "execute_result",
          "data": {
            "text/plain": [
              "gr.pinterest|referral        3\n",
              "pinterest|paid           64656\n",
              "pinterest|referral        6366\n",
              "Name: source_medium, dtype: int64"
            ]
          },
          "metadata": {},
          "execution_count": 39
        }
      ]
    },
    {
      "cell_type": "code",
      "source": [
        "# l=list(set(contains_pinterest['source_medium'].tolist()))\n",
        "# m=[item.split(\"|\")[0] for item in l]\n",
        "# m"
      ],
      "metadata": {
        "colab": {
          "base_uri": "https://localhost:8080/"
        },
        "id": "E8DhGzAGGbMK",
        "outputId": "59e05b04-f9d5-4348-cc0a-7f48163a3e51"
      },
      "execution_count": null,
      "outputs": [
        {
          "output_type": "execute_result",
          "data": {
            "text/plain": [
              "['pl.pinterest.com',\n",
              " 'br.pinterest.com',\n",
              " 'pinterest.co.uk',\n",
              " 'in.pinterest.com',\n",
              " 'ar.pinterest.com',\n",
              " 'pinterest.fr',\n",
              " 'pinterest.it',\n",
              " 'pinterest.com.au',\n",
              " 'pinterest.lightning.force.com',\n",
              " 'pinterest.ch',\n",
              " 'ads.pinterest.com',\n",
              " 'no.pinterest.com',\n",
              " 'tr.pinterest.com',\n",
              " 'pinterest.jp',\n",
              " 'pinterest',\n",
              " 'pinterest.pt',\n",
              " 'ro.pinterest.com',\n",
              " 'pinterest.com',\n",
              " 'gr.pinterest.com',\n",
              " 'pinterest.es']"
            ]
          },
          "metadata": {},
          "execution_count": 31
        }
      ]
    },
    {
      "cell_type": "code",
      "source": [
        "contains_pinterest = df[df['source_medium'].str.contains('stripe', case=False, na=False)]\n",
        "\n",
        "# Display the rows\n",
        "contains_pinterest['source_medium'].value_counts().sort_index()"
      ],
      "metadata": {
        "colab": {
          "base_uri": "https://localhost:8080/"
        },
        "id": "lLPT4U2tIl16",
        "outputId": "823b3b37-5802-4a9f-a89b-c40becee50a7"
      },
      "execution_count": null,
      "outputs": [
        {
          "output_type": "execute_result",
          "data": {
            "text/plain": [
              "billing.stripe.com|referral    17\n",
              "Name: source_medium, dtype: int64"
            ]
          },
          "metadata": {},
          "execution_count": 26
        }
      ]
    },
    {
      "cell_type": "code",
      "source": [],
      "metadata": {
        "id": "7Z5Nlt86JUCR"
      },
      "execution_count": null,
      "outputs": []
    }
  ]
}